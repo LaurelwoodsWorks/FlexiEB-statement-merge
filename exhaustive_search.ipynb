{
 "cells": [
  {
   "cell_type": "code",
   "execution_count": 1,
   "metadata": {},
   "outputs": [],
   "source": [
    "import pandas as pd\n",
    "import csv\n",
    "from copy import deepcopy\n",
    "import os"
   ]
  },
  {
   "cell_type": "code",
   "execution_count": 2,
   "metadata": {},
   "outputs": [],
   "source": [
    "TOTAL_COST_SUM = 0          # For (temporary) A computation (obtained below)\n",
    "TOTAL_NUM_FRAGMENTS = 0     # For (temporary) B computation #243"
   ]
  },
  {
   "cell_type": "code",
   "execution_count": 3,
   "metadata": {},
   "outputs": [],
   "source": [
    "# For load\n",
    "def to_array(s: str) -> list:\n",
    "    s = s.replace(r'{', '')\n",
    "    s = s.replace(r'}', '')\n",
    "    s = s.replace(r' ', '')    \n",
    "\n",
    "    if s == '': return []\n",
    "\n",
    "    # return list(map(int,s.split(',')))\n",
    "    return s.split(',')\n",
    "\n",
    "# For save\n",
    "def to_string(s: list) -> str:\n",
    "    if len(s) == 0: \n",
    "        row = r\"{}\"\n",
    "    else: \n",
    "        row = r\"{\" + \" ,\".join(s) + r\"}\"\n",
    "    return row"
   ]
  },
  {
   "cell_type": "code",
   "execution_count": 4,
   "metadata": {},
   "outputs": [
    {
     "data": {
      "text/html": [
       "<div>\n",
       "<style scoped>\n",
       "    .dataframe tbody tr th:only-of-type {\n",
       "        vertical-align: middle;\n",
       "    }\n",
       "\n",
       "    .dataframe tbody tr th {\n",
       "        vertical-align: top;\n",
       "    }\n",
       "\n",
       "    .dataframe thead th {\n",
       "        text-align: right;\n",
       "    }\n",
       "</style>\n",
       "<table border=\"1\" class=\"dataframe\">\n",
       "  <thead>\n",
       "    <tr style=\"text-align: right;\">\n",
       "      <th></th>\n",
       "      <th>Procedure</th>\n",
       "      <th>Statement</th>\n",
       "      <th>producer statement</th>\n",
       "      <th>consumer statement</th>\n",
       "      <th>cost</th>\n",
       "      <th>result size</th>\n",
       "      <th>Fragment</th>\n",
       "    </tr>\n",
       "  </thead>\n",
       "  <tbody>\n",
       "    <tr>\n",
       "      <th>0</th>\n",
       "      <td>5</td>\n",
       "      <td>25</td>\n",
       "      <td>{}</td>\n",
       "      <td>{29, 30, 32}</td>\n",
       "      <td>0.061239</td>\n",
       "      <td>99090</td>\n",
       "      <td>{88,95,96,97,101,102,103,87}</td>\n",
       "    </tr>\n",
       "    <tr>\n",
       "      <th>1</th>\n",
       "      <td>5</td>\n",
       "      <td>26</td>\n",
       "      <td>{}</td>\n",
       "      <td>{29, 30, 32}</td>\n",
       "      <td>0.045698</td>\n",
       "      <td>73049</td>\n",
       "      <td>{30,24}</td>\n",
       "    </tr>\n",
       "    <tr>\n",
       "      <th>2</th>\n",
       "      <td>5</td>\n",
       "      <td>27</td>\n",
       "      <td>{}</td>\n",
       "      <td>{29}</td>\n",
       "      <td>0.047481</td>\n",
       "      <td>2880404</td>\n",
       "      <td>{18,17,15,16,1,4}</td>\n",
       "    </tr>\n",
       "    <tr>\n",
       "      <th>3</th>\n",
       "      <td>5</td>\n",
       "      <td>28</td>\n",
       "      <td>{}</td>\n",
       "      <td>{30}</td>\n",
       "      <td>0.064059</td>\n",
       "      <td>1441548</td>\n",
       "      <td>{150,149,147,148,125,128}</td>\n",
       "    </tr>\n",
       "    <tr>\n",
       "      <th>4</th>\n",
       "      <td>5</td>\n",
       "      <td>29</td>\n",
       "      <td>{25,26,27}</td>\n",
       "      <td>{33}</td>\n",
       "      <td>0.174254</td>\n",
       "      <td>188834</td>\n",
       "      <td>{}</td>\n",
       "    </tr>\n",
       "    <tr>\n",
       "      <th>5</th>\n",
       "      <td>5</td>\n",
       "      <td>30</td>\n",
       "      <td>{25,26,28}</td>\n",
       "      <td>{33}</td>\n",
       "      <td>0.169058</td>\n",
       "      <td>135789</td>\n",
       "      <td>{}</td>\n",
       "    </tr>\n",
       "    <tr>\n",
       "      <th>6</th>\n",
       "      <td>5</td>\n",
       "      <td>31</td>\n",
       "      <td>{}</td>\n",
       "      <td>{32}</td>\n",
       "      <td>0.063730</td>\n",
       "      <td>719384</td>\n",
       "      <td>{186,211,210,208,209,190}</td>\n",
       "    </tr>\n",
       "    <tr>\n",
       "      <th>7</th>\n",
       "      <td>5</td>\n",
       "      <td>32</td>\n",
       "      <td>{25,26,31}</td>\n",
       "      <td>{33}</td>\n",
       "      <td>0.171958</td>\n",
       "      <td>56139</td>\n",
       "      <td>{}</td>\n",
       "    </tr>\n",
       "    <tr>\n",
       "      <th>8</th>\n",
       "      <td>5</td>\n",
       "      <td>33</td>\n",
       "      <td>{29,30,32}</td>\n",
       "      <td>{34}</td>\n",
       "      <td>0.252135</td>\n",
       "      <td>380762</td>\n",
       "      <td>{}</td>\n",
       "    </tr>\n",
       "    <tr>\n",
       "      <th>9</th>\n",
       "      <td>5</td>\n",
       "      <td>34</td>\n",
       "      <td>{33}</td>\n",
       "      <td>{35}</td>\n",
       "      <td>1.182939</td>\n",
       "      <td>555294969</td>\n",
       "      <td>{}</td>\n",
       "    </tr>\n",
       "    <tr>\n",
       "      <th>10</th>\n",
       "      <td>5</td>\n",
       "      <td>35</td>\n",
       "      <td>{34}</td>\n",
       "      <td>{}</td>\n",
       "      <td>0.407706</td>\n",
       "      <td>1</td>\n",
       "      <td>{}</td>\n",
       "    </tr>\n",
       "  </tbody>\n",
       "</table>\n",
       "</div>"
      ],
      "text/plain": [
       "    Procedure  Statement producer statement consumer statement      cost  \\\n",
       "0           5         25                 {}       {29, 30, 32}  0.061239   \n",
       "1           5         26                 {}       {29, 30, 32}  0.045698   \n",
       "2           5         27                 {}               {29}  0.047481   \n",
       "3           5         28                 {}               {30}  0.064059   \n",
       "4           5         29         {25,26,27}               {33}  0.174254   \n",
       "5           5         30         {25,26,28}               {33}  0.169058   \n",
       "6           5         31                 {}               {32}  0.063730   \n",
       "7           5         32         {25,26,31}               {33}  0.171958   \n",
       "8           5         33         {29,30,32}               {34}  0.252135   \n",
       "9           5         34               {33}               {35}  1.182939   \n",
       "10          5         35               {34}                 {}  0.407706   \n",
       "\n",
       "    result size                      Fragment  \n",
       "0         99090  {88,95,96,97,101,102,103,87}  \n",
       "1         73049                       {30,24}  \n",
       "2       2880404             {18,17,15,16,1,4}  \n",
       "3       1441548     {150,149,147,148,125,128}  \n",
       "4        188834                            {}  \n",
       "5        135789                            {}  \n",
       "6        719384     {186,211,210,208,209,190}  \n",
       "7         56139                            {}  \n",
       "8        380762                            {}  \n",
       "9     555294969                            {}  \n",
       "10            1                            {}  "
      ]
     },
     "execution_count": 4,
     "metadata": {},
     "output_type": "execute_result"
    }
   ],
   "source": [
    "original_df = pd.read_csv(\"Statement-Infomation.csv\")\n",
    "original_df"
   ]
  },
  {
   "cell_type": "code",
   "execution_count": 5,
   "metadata": {},
   "outputs": [],
   "source": [
    "def load(csv_path: str) -> dict:\n",
    "    original = {}\n",
    "    original_df = pd.read_csv(csv_path)\n",
    "\n",
    "    global TOTAL_COST_SUM\n",
    "    global TOTAL_NUM_FRAGMENTS\n",
    "\n",
    "    for i in range(len(original_df)):\n",
    "        row = original_df.loc[i]\n",
    "\n",
    "        # NOTE: Procedure is skipped in this algorithm\n",
    "        tmp = []\n",
    "        tmp.append(to_array(row[2]))    # producer statement\t\n",
    "        tmp.append(to_array(row[3]))    # consumer statement\t\n",
    "        tmp.append(row[4])              # cost\t\n",
    "        tmp.append(row[5])              # result size\n",
    "\n",
    "        fragments = to_array(row[6])\n",
    "        tmp.append(fragments)\n",
    "        # tmp.append(row[0])              # Procedure\n",
    "        \n",
    "        original[str(row[1])] = tmp     # Statement\n",
    "\n",
    "        TOTAL_COST_SUM += row[4]                #type:ignore\n",
    "        TOTAL_NUM_FRAGMENTS += len(fragments)   #type:ignore\n",
    "    return original"
   ]
  },
  {
   "cell_type": "code",
   "execution_count": 6,
   "metadata": {},
   "outputs": [
    {
     "data": {
      "text/plain": [
       "[[],\n",
       " ['29', '30', '32'],\n",
       " 0.061239,\n",
       " 99090,\n",
       " ['88', '95', '96', '97', '101', '102', '103', '87']]"
      ]
     },
     "execution_count": 6,
     "metadata": {},
     "output_type": "execute_result"
    }
   ],
   "source": [
    "original = load(\"Statement-Infomation.csv\")\n",
    "original['25']"
   ]
  },
  {
   "cell_type": "code",
   "execution_count": 7,
   "metadata": {},
   "outputs": [],
   "source": [
    "def rule_A(cost: int) -> bool:\n",
    "    global TOTAL_COST_SUM\n",
    "    if cost > TOTAL_COST_SUM/4: return False    # type: ignore\n",
    "    else: return True\n",
    "\n",
    "def rule_B(fragments: list) -> bool:\n",
    "    global TOTAL_NUM_FRAGMENTS\n",
    "    if len(fragments) > TOTAL_NUM_FRAGMENTS/4: return False # type: ignore\n",
    "    else: return True"
   ]
  },
  {
   "cell_type": "code",
   "execution_count": 8,
   "metadata": {},
   "outputs": [],
   "source": [
    "def compute_total_benefit(info: dict):\n",
    "    '''\n",
    "    Compute total benefit of current statements.\n",
    "\n",
    "    Used for computing {rule_A}.\n",
    "    '''\n",
    "    total_benefit = 0\n",
    "    for statement in info:\n",
    "        row = info[statement]\n",
    "\n",
    "        if len(row) > 5:\n",
    "            total_benefit += row[6]\n",
    "    \n",
    "    return total_benefit"
   ]
  },
  {
   "cell_type": "code",
   "execution_count": 9,
   "metadata": {},
   "outputs": [],
   "source": [
    "def merge(info: dict, producer_key: str, consumer_key: str):\n",
    "    '''\n",
    "    Merge producer and consumer.\n",
    "    '''\n",
    "    p = info[producer_key]\n",
    "    c = info[consumer_key]\n",
    "\n",
    "\n",
    "    # Compute part of merged info for determination\n",
    "    cost = p[2] + c[2]\n",
    "    fragments = p[4] + c[4]\n",
    "\n",
    "\n",
    "    # Determine whether to merge using rules.\n",
    "    if not(rule_A(cost) and rule_B(fragments)): return None, None\n",
    "\n",
    "\n",
    "    # Compute producer_statements and consumer_statements\n",
    "    producer_statements = p[0] + c[0]\n",
    "    producer_statements.remove(producer_key)    \n",
    "    if producer_statements is None: producer_statements = []\n",
    "\n",
    "    consumer_statements = p[1] + c[1]\n",
    "    consumer_statements.remove(consumer_key)\n",
    "    if consumer_statements is None: consumer_statements = []\n",
    "\n",
    "\n",
    "    # Compute result_size, consist, benefit\n",
    "    result_size = c[3]  #p[3] + c[3]\n",
    "    consist = []\n",
    "    benefit = p[3]\n",
    "\n",
    "    # If producer statement is merged one, then inherit it.\n",
    "    if len(p) > 5:  \n",
    "        result_size += p[3]\n",
    "        consist.extend(p[5])\n",
    "        benefit += p[6]\n",
    "    else:\n",
    "        consist.append(producer_key)\n",
    "        \n",
    "\n",
    "    # If consumer statement is merged one, then inherit it.\n",
    "    if len(c) > 5: consist.extend(c[5])\n",
    "    else: consist.append(consumer_key)\n",
    "\n",
    "    consist = sorted(consist)   # for visual\n",
    "\n",
    "\n",
    "    # Pack the result\n",
    "    merge_row = [\n",
    "        producer_statements,\n",
    "        consumer_statements,\n",
    "        cost,\n",
    "        result_size,\n",
    "        fragments,\n",
    "        consist,\n",
    "        benefit\n",
    "    ]\n",
    "\n",
    "\n",
    "    # Make new statement\n",
    "    merge_statement = \"EB-\" + \"-\".join(map(str, list(consist)))\n",
    "\n",
    "    return merge_statement, merge_row"
   ]
  },
  {
   "cell_type": "code",
   "execution_count": 10,
   "metadata": {},
   "outputs": [],
   "source": [
    "def update(info: dict, merged_statements: list[str], merge_statement: str):\n",
    "    '''\n",
    "    Inplace function\n",
    "    '''\n",
    "\n",
    "    # Delete merged statements\n",
    "    for merged_key in merged_statements:\n",
    "        del info[merged_key]\n",
    "\n",
    "    # Propagate update\n",
    "    # i.e. Replace merged statements in other statements' producer/consumer list \n",
    "    # with merged statements\n",
    "    for statement in info:\n",
    "        row = info[statement]\n",
    "\n",
    "        def search_and_delete(array: list):\n",
    "            deleted = False\n",
    "            for i in reversed(range(len(array))):\n",
    "                if array[i] in merged_statements:\n",
    "                    del array[i]\n",
    "                    deleted = True\n",
    "                    \n",
    "            if deleted: array.append(merge_statement)\n",
    "        \n",
    "        search_and_delete(row[0])\n",
    "        search_and_delete(row[1])"
   ]
  },
  {
   "cell_type": "code",
   "execution_count": 11,
   "metadata": {},
   "outputs": [],
   "source": [
    "def search(info: dict, history: list):\n",
    "    for statement in info:\n",
    "        # NOTE: {statement} plays a role as consumer\n",
    "        row = info[statement]\n",
    "        \n",
    "\n",
    "        # When have no producer statements\n",
    "        if len(row[0]) == 0: continue   \n",
    "        \n",
    "\n",
    "        # Recursively search on all of the producer statements\n",
    "        for producer_statement in row[0]:\n",
    "            producer_statement = str(producer_statement)\n",
    "            merge_statement, merge_row = merge(info, producer_statement, statement)\n",
    "            # print(k, m)\n",
    "\n",
    "\n",
    "            # When satisfied the rule\n",
    "            if merge_statement is not None:\n",
    "                # Update info\n",
    "                updated_info = deepcopy(info)\n",
    "\n",
    "                updated_info[merge_statement] = merge_row\n",
    "                update(updated_info, [producer_statement, statement], merge_statement)\n",
    "                # print(updated_info)\n",
    "\n",
    "\n",
    "                # Write on history\n",
    "                tmp = {}\n",
    "                tmp[\"update\"] = merge_statement\n",
    "                tmp[\"result\"] = updated_info\n",
    "                tmp[\"total_benefit\"] = compute_total_benefit(updated_info)\n",
    "                tmp[\"next\"] = []\n",
    "                history.append(tmp)\n",
    "                \n",
    "                \n",
    "                # Recursively proceed search\n",
    "                # NOTE: Terminal condition is \n",
    "                # when there is no producer statement. \n",
    "                search(updated_info, tmp[\"next\"])"
   ]
  },
  {
   "cell_type": "code",
   "execution_count": 12,
   "metadata": {},
   "outputs": [],
   "source": [
    "search_result = {}\n",
    "search_result[\"next\"] = []\n",
    "\n",
    "search(original, search_result[\"next\"])"
   ]
  },
  {
   "cell_type": "code",
   "execution_count": 13,
   "metadata": {},
   "outputs": [],
   "source": [
    "def is_duplicated(target_list: list, target_row: dict) -> bool:\n",
    "    '''\n",
    "    {target_list} : list of statement info for check duplicate\n",
    "    {target_row} : target row for check\n",
    "    '''\n",
    "    statements = list(target_row.keys())\n",
    "\n",
    "    for l_row in target_list:\n",
    "        l_statements = list(l_row.keys())\n",
    "\n",
    "        if len(l_statements) != len(statements):\n",
    "            continue\n",
    "        \n",
    "        matched = True\n",
    "        for l, s in zip(sorted(l_statements), sorted(statements)):  # Are statements info already sorted for sure?\n",
    "            if l != s:\n",
    "                matched = False\n",
    "                break\n",
    "        \n",
    "        if matched: return True\n",
    "    \n",
    "    return False"
   ]
  },
  {
   "cell_type": "code",
   "execution_count": 14,
   "metadata": {},
   "outputs": [],
   "source": [
    "def categorically_extract_terminal_node(tree: dict, result: dict[str, list]):\n",
    "    '''\n",
    "    Return a dict \n",
    "        key: total_benefit\n",
    "        value: list of statements info\n",
    "    '''\n",
    "    if len(tree['next']) == 0:\n",
    "        if tree['total_benefit'] not in result:\n",
    "            result[tree['total_benefit']] = []\n",
    "        \n",
    "        if len(result[tree['total_benefit']]) < 0 or \\\n",
    "            (not is_duplicated(result[tree['total_benefit']], tree['result'])):\n",
    "            result[tree['total_benefit']].append(tree['result'])\n",
    "    \n",
    "    for subtree in tree['next']:\n",
    "        categorically_extract_terminal_node(subtree, result)"
   ]
  },
  {
   "cell_type": "code",
   "execution_count": 15,
   "metadata": {},
   "outputs": [],
   "source": [
    "result = {}\n",
    "\n",
    "categorically_extract_terminal_node(search_result, result)"
   ]
  },
  {
   "cell_type": "code",
   "execution_count": 16,
   "metadata": {},
   "outputs": [
    {
     "data": {
      "text/plain": [
       "72"
      ]
     },
     "execution_count": 16,
     "metadata": {},
     "output_type": "execute_result"
    }
   ],
   "source": [
    "# Num of categories of possible benefits\n",
    "len(result)"
   ]
  },
  {
   "cell_type": "code",
   "execution_count": 17,
   "metadata": {},
   "outputs": [
    {
     "data": {
      "text/plain": [
       "102"
      ]
     },
     "execution_count": 17,
     "metadata": {},
     "output_type": "execute_result"
    }
   ],
   "source": [
    "num_statements_info = 0\n",
    "for r in result:\n",
    "    num_statements_info += len(result[r])\n",
    "\n",
    "num_statements_info"
   ]
  },
  {
   "cell_type": "code",
   "execution_count": 18,
   "metadata": {},
   "outputs": [],
   "source": [
    "# Sort resulting statements info list with total_benefit in descending order\n",
    "result = dict(sorted(result.items(), reverse=True))"
   ]
  },
  {
   "cell_type": "code",
   "execution_count": 19,
   "metadata": {},
   "outputs": [],
   "source": [
    "best_benefit = next(iter(result))\n",
    "best_benefit_list = result[best_benefit]"
   ]
  },
  {
   "cell_type": "code",
   "execution_count": 20,
   "metadata": {},
   "outputs": [
    {
     "data": {
      "text/plain": [
       "5230170"
      ]
     },
     "execution_count": 20,
     "metadata": {},
     "output_type": "execute_result"
    }
   ],
   "source": [
    "best_benefit"
   ]
  },
  {
   "cell_type": "code",
   "execution_count": 21,
   "metadata": {},
   "outputs": [
    {
     "data": {
      "text/plain": [
       "1"
      ]
     },
     "execution_count": 21,
     "metadata": {},
     "output_type": "execute_result"
    }
   ],
   "source": [
    "# Num of statements info with best benefit\n",
    "len(best_benefit_list)"
   ]
  },
  {
   "cell_type": "code",
   "execution_count": 22,
   "metadata": {},
   "outputs": [
    {
     "data": {
      "text/plain": [
       "[['25', '26'],\n",
       " ['EB-27-29-33'],\n",
       " 0.23311700000000002,\n",
       " 135789,\n",
       " ['150', '149', '147', '148', '125', '128'],\n",
       " ['28', '30'],\n",
       " 1441548]"
      ]
     },
     "execution_count": 22,
     "metadata": {},
     "output_type": "execute_result"
    }
   ],
   "source": [
    "best_benefit_list[0]['EB-28-30']"
   ]
  },
  {
   "cell_type": "code",
   "execution_count": 23,
   "metadata": {},
   "outputs": [],
   "source": [
    "def save(target_list: list, benefit: int, procedure: str, path: str=\"output\"):\n",
    "    COLUMNS = ['Procedure', 'Statement', 'producer statement', 'consumer statement',\n",
    "                'cost', 'result size', 'Fragment', \"consist\", \"benefit\"]\n",
    "    \n",
    "    path = os.path.join(path, str(benefit))\n",
    "    os.mkdir(path)\n",
    "    for i, category in enumerate(target_list):  \n",
    "        with open(os.path.join(path, f\"{i}.csv\"), \"w\") as c:\n",
    "            writer = csv.writer(c)            \n",
    "            writer.writerow(COLUMNS)\n",
    "\n",
    "            for statement in category:\n",
    "                \n",
    "                producer_statement = to_string(category[statement][0])\n",
    "                consumer_statement = to_string(category[statement][1])\n",
    "                cost = category[statement][2]\n",
    "                result_size = category[statement][3]\n",
    "                fragments = to_string(category[statement][4])\n",
    "\n",
    "                if len(category[statement]) > 5:\n",
    "                    consist = to_string(category[statement][5])\n",
    "                    benefit = category[statement][6]\n",
    "                else:\n",
    "                    consist = None\n",
    "                    benefit = None\n",
    "\n",
    "                row = [\n",
    "                    procedure,\n",
    "                    statement,\n",
    "                    producer_statement,\n",
    "                    consumer_statement,\n",
    "                    cost,\n",
    "                    result_size,\n",
    "                    fragments,\n",
    "                    consist,\n",
    "                    benefit\n",
    "                ]\n",
    "                writer.writerow(row)"
   ]
  },
  {
   "cell_type": "code",
   "execution_count": 24,
   "metadata": {},
   "outputs": [],
   "source": [
    "save(best_benefit_list, best_benefit, \"5\")"
   ]
  },
  {
   "cell_type": "code",
   "execution_count": null,
   "metadata": {},
   "outputs": [],
   "source": []
  }
 ],
 "metadata": {
  "kernelspec": {
   "display_name": "Python 3",
   "language": "python",
   "name": "python3"
  },
  "language_info": {
   "codemirror_mode": {
    "name": "ipython",
    "version": 3
   },
   "file_extension": ".py",
   "mimetype": "text/x-python",
   "name": "python",
   "nbconvert_exporter": "python",
   "pygments_lexer": "ipython3",
   "version": "3.11.1"
  },
  "orig_nbformat": 4
 },
 "nbformat": 4,
 "nbformat_minor": 2
}
